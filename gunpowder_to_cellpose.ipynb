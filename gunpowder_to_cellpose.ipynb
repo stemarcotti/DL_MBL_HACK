{
 "cells": [
  {
   "cell_type": "code",
   "execution_count": 29,
   "metadata": {},
   "outputs": [
    {
     "ename": "ModuleNotFoundError",
     "evalue": "No module named 'matplotlib'",
     "output_type": "error",
     "traceback": [
      "\u001b[0;31m---------------------------------------------------------------------------\u001b[0m",
      "\u001b[0;31mModuleNotFoundError\u001b[0m                       Traceback (most recent call last)",
      "Cell \u001b[0;32mIn[29], line 14\u001b[0m\n\u001b[1;32m     12\u001b[0m \u001b[39mimport\u001b[39;00m \u001b[39mzarr\u001b[39;00m\n\u001b[1;32m     13\u001b[0m \u001b[39mimport\u001b[39;00m \u001b[39mimageio\u001b[39;00m\n\u001b[0;32m---> 14\u001b[0m \u001b[39mimport\u001b[39;00m \u001b[39mmatplotlib\u001b[39;00m\u001b[39m.\u001b[39;00m\u001b[39mpyplot\u001b[39;00m \u001b[39mas\u001b[39;00m \u001b[39mplt\u001b[39;00m\n\u001b[1;32m     16\u001b[0m \u001b[39mimport\u001b[39;00m \u001b[39mlogging\u001b[39;00m\n\u001b[1;32m     17\u001b[0m \u001b[39mfrom\u001b[39;00m \u001b[39mcellpose\u001b[39;00m \u001b[39mimport\u001b[39;00m dynamics\n",
      "\u001b[0;31mModuleNotFoundError\u001b[0m: No module named 'matplotlib'"
     ]
    }
   ],
   "source": [
    "import time, os\n",
    "from scipy.ndimage import maximum_filter1d, find_objects\n",
    "import torch\n",
    "import numpy as np\n",
    "import tifffile\n",
    "from tqdm import trange\n",
    "from numba import njit, float32, int32, vectorize\n",
    "import cv2\n",
    "import fastremap\n",
    "import gunpowder as gp\n",
    "import math\n",
    "import zarr\n",
    "import imageio\n",
    "import matplotlib.pyplot as plt\n",
    "\n",
    "import logging\n",
    "from cellpose import dynamics\n",
    "# dynamics_logger = logging.getLogger(__name__)\n",
    "\n",
    "#from cellpose import utils, metrics, transforms\n",
    "\n",
    "import torch\n",
    "from torch import optim, nn\n",
    "# from torch import resnet_torch\n",
    "TORCH_ENABLED = True \n",
    "torch_GPU = torch.device('cuda')\n",
    "torch_CPU = torch.device('cpu')"
   ]
  },
  {
   "cell_type": "code",
   "execution_count": 11,
   "metadata": {},
   "outputs": [
    {
     "data": {
      "text/plain": [
       "(64, 640, 640)"
      ]
     },
     "execution_count": 11,
     "metadata": {},
     "output_type": "execute_result"
    }
   ],
   "source": [
    "# This loads the zarr file\n",
    "load_path = '/mnt/efs/shared_data/hack/data/20230811/20230811_raw.zarr'\n",
    "f = zarr.open(load_path, 'r')\n",
    "f['fov0/raw'].shape"
   ]
  },
  {
   "cell_type": "code",
   "execution_count": 19,
   "metadata": {},
   "outputs": [],
   "source": [
    "def show_one_image(image_path):\n",
    "    image = imageio.imread(image_path)\n",
    "    plt.imshow(image)"
   ]
  },
  {
   "cell_type": "code",
   "execution_count": null,
   "metadata": {},
   "outputs": [],
   "source": []
  },
  {
   "cell_type": "code",
   "execution_count": 26,
   "metadata": {},
   "outputs": [
    {
     "data": {
      "text/plain": [
       "(1, 200, 200)"
      ]
     },
     "execution_count": 26,
     "metadata": {},
     "output_type": "execute_result"
    }
   ],
   "source": [
    "# get a crop\n",
    "\n",
    "mask = f['fov0/gt'][15:16, 150:350,150:350]\n",
    "mask.shape"
   ]
  },
  {
   "cell_type": "code",
   "execution_count": 28,
   "metadata": {},
   "outputs": [
    {
     "ename": "NameError",
     "evalue": "name 'plt' is not defined",
     "output_type": "error",
     "traceback": [
      "\u001b[0;31m---------------------------------------------------------------------------\u001b[0m",
      "\u001b[0;31mNameError\u001b[0m                                 Traceback (most recent call last)",
      "Cell \u001b[0;32mIn[28], line 1\u001b[0m\n\u001b[0;32m----> 1\u001b[0m plt\u001b[39m.\u001b[39mimshow(mask)\n",
      "\u001b[0;31mNameError\u001b[0m: name 'plt' is not defined"
     ]
    }
   ],
   "source": [
    "plt.imshow(mask)"
   ]
  },
  {
   "cell_type": "code",
   "execution_count": 13,
   "metadata": {},
   "outputs": [
    {
     "ename": "AttributeError",
     "evalue": "'Array' object has no attribute 'max'",
     "output_type": "error",
     "traceback": [
      "\u001b[0;31m---------------------------------------------------------------------------\u001b[0m",
      "\u001b[0;31mAttributeError\u001b[0m                            Traceback (most recent call last)",
      "Cell \u001b[0;32mIn[13], line 1\u001b[0m\n\u001b[0;32m----> 1\u001b[0m dynamics\u001b[39m.\u001b[39;49mmasks_to_flows(f[\u001b[39m'\u001b[39;49m\u001b[39mfov0/gt\u001b[39;49m\u001b[39m'\u001b[39;49m])\n\u001b[1;32m      3\u001b[0m \u001b[39m## USE THIS to take in the masks, compute the flows from them, and then save the flows\u001b[39;00m\n",
      "File \u001b[0;32m~/conda/envs/gp_2_cp/lib/python3.8/site-packages/cellpose/dynamics.py:254\u001b[0m, in \u001b[0;36mmasks_to_flows\u001b[0;34m(masks, use_gpu, device)\u001b[0m\n\u001b[1;32m    228\u001b[0m \u001b[39mdef\u001b[39;00m \u001b[39mmasks_to_flows\u001b[39m(masks, use_gpu\u001b[39m=\u001b[39m\u001b[39mFalse\u001b[39;00m, device\u001b[39m=\u001b[39m\u001b[39mNone\u001b[39;00m):\n\u001b[1;32m    229\u001b[0m \u001b[39m    \u001b[39m\u001b[39m\"\"\" convert masks to flows using diffusion from center pixel\u001b[39;00m\n\u001b[1;32m    230\u001b[0m \n\u001b[1;32m    231\u001b[0m \u001b[39m    Center of masks where diffusion starts is defined to be the \u001b[39;00m\n\u001b[0;32m   (...)\u001b[0m\n\u001b[1;32m    252\u001b[0m \n\u001b[1;32m    253\u001b[0m \u001b[39m    \"\"\"\u001b[39;00m\n\u001b[0;32m--> 254\u001b[0m     \u001b[39mif\u001b[39;00m masks\u001b[39m.\u001b[39;49mmax() \u001b[39m==\u001b[39m \u001b[39m0\u001b[39m:\n\u001b[1;32m    255\u001b[0m         dynamics_logger\u001b[39m.\u001b[39mwarning(\u001b[39m'\u001b[39m\u001b[39mempty masks!\u001b[39m\u001b[39m'\u001b[39m)\n\u001b[1;32m    256\u001b[0m         \u001b[39mreturn\u001b[39;00m np\u001b[39m.\u001b[39mzeros((\u001b[39m2\u001b[39m, \u001b[39m*\u001b[39mmasks\u001b[39m.\u001b[39mshape), \u001b[39m'\u001b[39m\u001b[39mfloat32\u001b[39m\u001b[39m'\u001b[39m)\n",
      "\u001b[0;31mAttributeError\u001b[0m: 'Array' object has no attribute 'max'"
     ]
    }
   ],
   "source": [
    "dynamics.masks_to_flows(f['fov0/gt'])\n",
    "\n",
    "## USE THIS to take in the masks, compute the flows from them, and then save the flows"
   ]
  },
  {
   "cell_type": "code",
   "execution_count": 8,
   "metadata": {},
   "outputs": [
    {
     "ename": "NameError",
     "evalue": "name 'store_path' is not defined",
     "output_type": "error",
     "traceback": [
      "\u001b[0;31m---------------------------------------------------------------------------\u001b[0m",
      "\u001b[0;31mNameError\u001b[0m                                 Traceback (most recent call last)",
      "Cell \u001b[0;32mIn[8], line 31\u001b[0m\n\u001b[1;32m     26\u001b[0m pad_gt \u001b[39m=\u001b[39m gp\u001b[39m.\u001b[39mPad(gt, \u001b[39m0\u001b[39m)\n\u001b[1;32m     30\u001b[0m \u001b[39m# Make this 'pipeline' thingy\u001b[39;00m\n\u001b[0;32m---> 31\u001b[0m source \u001b[39m=\u001b[39m \u001b[39mtuple\u001b[39;49m(gp\u001b[39m.\u001b[39;49mZarrSource(\n\u001b[1;32m     32\u001b[0m     store_path,\n\u001b[1;32m     33\u001b[0m     {\n\u001b[1;32m     34\u001b[0m       raw: \u001b[39mf\u001b[39;49m\u001b[39m'\u001b[39;49m\u001b[39mfov\u001b[39;49m\u001b[39m{\u001b[39;49;00mi\u001b[39m}\u001b[39;49;00m\u001b[39m/raw\u001b[39;49m\u001b[39m'\u001b[39;49m,\n\u001b[1;32m     35\u001b[0m       gt: \u001b[39mf\u001b[39;49m\u001b[39m'\u001b[39;49m\u001b[39mfov\u001b[39;49m\u001b[39m{\u001b[39;49;00mi\u001b[39m}\u001b[39;49;00m\u001b[39m/gt\u001b[39;49m\u001b[39m'\u001b[39;49m\n\u001b[1;32m     36\u001b[0m     },\n\u001b[1;32m     37\u001b[0m     {\n\u001b[1;32m     38\u001b[0m       raw: gp\u001b[39m.\u001b[39;49mArraySpec(interpolatable\u001b[39m=\u001b[39;49m\u001b[39mTrue\u001b[39;49;00m,\n\u001b[1;32m     39\u001b[0m         voxel_size\u001b[39m=\u001b[39;49m(\u001b[39m1\u001b[39;49m,\u001b[39m1\u001b[39;49m)),\n\u001b[1;32m     40\u001b[0m       gt: gp\u001b[39m.\u001b[39;49mArraySpec(interpolatable\u001b[39m=\u001b[39;49m\u001b[39mFalse\u001b[39;49;00m,\n\u001b[1;32m     41\u001b[0m         voxel_size\u001b[39m=\u001b[39;49m(\u001b[39m1\u001b[39;49m,\u001b[39m1\u001b[39;49m)),\n\u001b[1;32m     42\u001b[0m     }) \u001b[39m+\u001b[39;49m normalize \u001b[39m+\u001b[39;49m pad_raw \u001b[39m+\u001b[39;49m pad_gt \u001b[39m+\u001b[39;49m random_location \u001b[39mfor\u001b[39;49;00m i \u001b[39min\u001b[39;49;00m [\u001b[39m1\u001b[39;49m])\n\u001b[1;32m     45\u001b[0m \u001b[39m# pipeline = source + random_location + simple_augment + elastic_augment + intensity_augment + noise_augment\u001b[39;00m\n\u001b[1;32m     46\u001b[0m pipeline \u001b[39m=\u001b[39m source\n",
      "Cell \u001b[0;32mIn[8], line 32\u001b[0m, in \u001b[0;36m<genexpr>\u001b[0;34m(.0)\u001b[0m\n\u001b[1;32m     26\u001b[0m pad_gt \u001b[39m=\u001b[39m gp\u001b[39m.\u001b[39mPad(gt, \u001b[39m0\u001b[39m)\n\u001b[1;32m     30\u001b[0m \u001b[39m# Make this 'pipeline' thingy\u001b[39;00m\n\u001b[1;32m     31\u001b[0m source \u001b[39m=\u001b[39m \u001b[39mtuple\u001b[39m(gp\u001b[39m.\u001b[39mZarrSource(\n\u001b[0;32m---> 32\u001b[0m     store_path,\n\u001b[1;32m     33\u001b[0m     {\n\u001b[1;32m     34\u001b[0m       raw: \u001b[39mf\u001b[39m\u001b[39m'\u001b[39m\u001b[39mfov\u001b[39m\u001b[39m{\u001b[39;00mi\u001b[39m}\u001b[39;00m\u001b[39m/raw\u001b[39m\u001b[39m'\u001b[39m,\n\u001b[1;32m     35\u001b[0m       gt: \u001b[39mf\u001b[39m\u001b[39m'\u001b[39m\u001b[39mfov\u001b[39m\u001b[39m{\u001b[39;00mi\u001b[39m}\u001b[39;00m\u001b[39m/gt\u001b[39m\u001b[39m'\u001b[39m\n\u001b[1;32m     36\u001b[0m     },\n\u001b[1;32m     37\u001b[0m     {\n\u001b[1;32m     38\u001b[0m       raw: gp\u001b[39m.\u001b[39mArraySpec(interpolatable\u001b[39m=\u001b[39m\u001b[39mTrue\u001b[39;00m,\n\u001b[1;32m     39\u001b[0m         voxel_size\u001b[39m=\u001b[39m(\u001b[39m1\u001b[39m,\u001b[39m1\u001b[39m)),\n\u001b[1;32m     40\u001b[0m       gt: gp\u001b[39m.\u001b[39mArraySpec(interpolatable\u001b[39m=\u001b[39m\u001b[39mFalse\u001b[39;00m,\n\u001b[1;32m     41\u001b[0m         voxel_size\u001b[39m=\u001b[39m(\u001b[39m1\u001b[39m,\u001b[39m1\u001b[39m)),\n\u001b[1;32m     42\u001b[0m     }) \u001b[39m+\u001b[39m normalize \u001b[39m+\u001b[39m pad_raw \u001b[39m+\u001b[39m pad_gt \u001b[39m+\u001b[39m random_location \u001b[39mfor\u001b[39;00m i \u001b[39min\u001b[39;00m [\u001b[39m1\u001b[39m])\n\u001b[1;32m     45\u001b[0m \u001b[39m# pipeline = source + random_location + simple_augment + elastic_augment + intensity_augment + noise_augment\u001b[39;00m\n\u001b[1;32m     46\u001b[0m pipeline \u001b[39m=\u001b[39m source\n",
      "\u001b[0;31mNameError\u001b[0m: name 'store_path' is not defined"
     ]
    }
   ],
   "source": [
    "# Make an array key for the raw data and the ground truth\n",
    "raw = gp.ArrayKey('RAW')\n",
    "gt = gp.ArrayKey('GROUND_TRUTH')\n",
    "\n",
    "#%%\n",
    "\n",
    "random_location = gp.RandomLocation()\n",
    "simple_augment = gp.SimpleAugment()\n",
    "stack = gp.Stack(5)\n",
    "\n",
    "elastic_augment = gp.ElasticAugment(\n",
    "  control_point_spacing=(20, 20),\n",
    "  jitter_sigma=(1.0, 1.0),\n",
    "  rotation_interval=(0, math.pi/2))\n",
    "\n",
    "normalize = gp.Normalize(raw)\n",
    "intensity_augment = gp.IntensityAugment(\n",
    "  raw,\n",
    "  scale_min=0.8,\n",
    "  scale_max=1.2,\n",
    "  shift_min=-0.2,\n",
    "  shift_max=0.2)\n",
    "noise_augment = gp.NoiseAugment(raw)\n",
    "\n",
    "pad_raw = gp.Pad(raw, None)\n",
    "pad_gt = gp.Pad(gt, 0)\n",
    "\n",
    "\n",
    "\n",
    "# Make this 'pipeline' thingy\n",
    "source = tuple(gp.ZarrSource(\n",
    "    store_path,\n",
    "    {\n",
    "      raw: f'fov{i}/raw',\n",
    "      gt: f'fov{i}/gt'\n",
    "    },\n",
    "    {\n",
    "      raw: gp.ArraySpec(interpolatable=True,\n",
    "        voxel_size=(1,1)),\n",
    "      gt: gp.ArraySpec(interpolatable=False,\n",
    "        voxel_size=(1,1)),\n",
    "    }) + normalize + pad_raw + pad_gt + random_location for i in [1])\n",
    "\n",
    "\n",
    "# pipeline = source + random_location + simple_augment + elastic_augment + intensity_augment + noise_augment\n",
    "pipeline = source\n",
    "pipeline += gp.RandomProvider()\n",
    "pipeline += simple_augment\n",
    "pipeline += elastic_augment\n",
    "pipeline += intensity_augment\n",
    "pipeline += noise_augment\n",
    "  # +stack\n",
    "  # reject\n",
    "  # )\n",
    "\n",
    "\n",
    "# formulate a request for \"raw\"\n",
    "request = gp.BatchRequest()\n",
    "request[raw] = gp.Roi((0,0), (128, 128))\n",
    "request[gt] = gp.Roi((0,0), (128, 128))\n",
    "\n",
    "# build the pipeline...\n",
    "with gp.build(pipeline):\n",
    "\n",
    "    # ...and request a batch\n",
    "    batch = pipeline.request_batch(request)\n",
    "\n",
    "# show the content of the batch\n",
    "print(f\"batch returned: {batch}\")"
   ]
  },
  {
   "cell_type": "code",
   "execution_count": null,
   "metadata": {},
   "outputs": [],
   "source": []
  }
 ],
 "metadata": {
  "kernelspec": {
   "display_name": "zarr",
   "language": "python",
   "name": "python3"
  },
  "language_info": {
   "codemirror_mode": {
    "name": "ipython",
    "version": 3
   },
   "file_extension": ".py",
   "mimetype": "text/x-python",
   "name": "python",
   "nbconvert_exporter": "python",
   "pygments_lexer": "ipython3",
   "version": "3.8.17"
  },
  "orig_nbformat": 4
 },
 "nbformat": 4,
 "nbformat_minor": 2
}
