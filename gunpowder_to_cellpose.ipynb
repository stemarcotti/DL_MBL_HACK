{
 "cells": [
  {
   "cell_type": "code",
   "execution_count": 5,
   "metadata": {},
   "outputs": [],
   "source": [
    "import time, os\n",
    "from scipy.ndimage import maximum_filter1d, find_objects\n",
    "import torch\n",
    "import numpy as np\n",
    "import tifffile\n",
    "from tqdm import trange\n",
    "from numba import njit, float32, int32, vectorize\n",
    "import cv2\n",
    "import fastremap\n",
    "\n",
    "import logging\n",
    "# from cellpose import dynamics_logger\n",
    "# dynamics_logger = logging.getLogger(__name__)\n",
    "\n",
    "from cellpose import utils, metrics, transforms\n",
    "\n",
    "import torch\n",
    "from torch import optim, nn\n",
    "# from torch import resnet_torch\n",
    "TORCH_ENABLED = True \n",
    "torch_GPU = torch.device('cuda')\n",
    "torch_CPU = torch.device('cpu')"
   ]
  },
  {
   "cell_type": "code",
   "execution_count": 6,
   "metadata": {},
   "outputs": [],
   "source": [
    "from cellpose import dynamics"
   ]
  },
  {
   "cell_type": "code",
   "execution_count": 7,
   "metadata": {},
   "outputs": [
    {
     "data": {
      "text/plain": [
       "<function cellpose.dynamics.masks_to_flows(masks, use_gpu=False, device=None)>"
      ]
     },
     "execution_count": 7,
     "metadata": {},
     "output_type": "execute_result"
    }
   ],
   "source": [
    "dynamics.masks_to_flows\n",
    "\n",
    "## USE THIS to take in the masks, compute the flows from them, and then save the flows"
   ]
  },
  {
   "cell_type": "code",
   "execution_count": null,
   "metadata": {},
   "outputs": [],
   "source": [
    "# Make an array key for the raw data and the ground truth\n",
    "raw = gp.ArrayKey('RAW')\n",
    "gt = gp.ArrayKey('GROUND_TRUTH')\n",
    "\n",
    "#%%\n",
    "\n",
    "random_location = gp.RandomLocation()\n",
    "simple_augment = gp.SimpleAugment()\n",
    "stack = gp.Stack(5)\n",
    "\n",
    "elastic_augment = gp.ElasticAugment(\n",
    "  control_point_spacing=(20, 20),\n",
    "  jitter_sigma=(1.0, 1.0),\n",
    "  rotation_interval=(0, math.pi/2))\n",
    "\n",
    "normalize = gp.Normalize(raw)\n",
    "intensity_augment = gp.IntensityAugment(\n",
    "  raw,\n",
    "  scale_min=0.8,\n",
    "  scale_max=1.2,\n",
    "  shift_min=-0.2,\n",
    "  shift_max=0.2)\n",
    "noise_augment = gp.NoiseAugment(raw)\n",
    "\n",
    "pad_raw = gp.Pad(raw, None)\n",
    "pad_gt = gp.Pad(gt, 0)\n",
    "\n",
    "\n",
    "\n",
    "# Make this 'pipeline' thingy\n",
    "source = tuple(gp.ZarrSource(\n",
    "    store_path,\n",
    "    {\n",
    "      raw: f'fov{i}/raw',\n",
    "      gt: f'fov{i}/gt'\n",
    "    },\n",
    "    {\n",
    "      raw: gp.ArraySpec(interpolatable=True,\n",
    "        voxel_size=(1,1)),\n",
    "      gt: gp.ArraySpec(interpolatable=False,\n",
    "        voxel_size=(1,1)),\n",
    "    }) + normalize + pad_raw + pad_gt + random_location for i in [1])\n",
    "\n",
    "\n",
    "# pipeline = source + random_location + simple_augment + elastic_augment + intensity_augment + noise_augment\n",
    "pipeline = source\n",
    "pipeline += gp.RandomProvider()\n",
    "pipeline += simple_augment\n",
    "pipeline += elastic_augment\n",
    "pipeline += intensity_augment\n",
    "pipeline += noise_augment\n",
    "  # +stack\n",
    "  # reject\n",
    "  # )\n",
    "\n",
    "\n",
    "# formulate a request for \"raw\"\n",
    "request = gp.BatchRequest()\n",
    "request[raw] = gp.Roi((0,0), (128, 128))\n",
    "request[gt] = gp.Roi((0,0), (128, 128))\n",
    "\n",
    "# build the pipeline...\n",
    "with gp.build(pipeline):\n",
    "\n",
    "    # ...and request a batch\n",
    "    batch = pipeline.request_batch(request)\n",
    "\n",
    "# show the content of the batch\n",
    "print(f\"batch returned: {batch}\")"
   ]
  }
 ],
 "metadata": {
  "kernelspec": {
   "display_name": "zarr",
   "language": "python",
   "name": "python3"
  },
  "language_info": {
   "codemirror_mode": {
    "name": "ipython",
    "version": 3
   },
   "file_extension": ".py",
   "mimetype": "text/x-python",
   "name": "python",
   "nbconvert_exporter": "python",
   "pygments_lexer": "ipython3",
   "version": "3.10.12"
  },
  "orig_nbformat": 4
 },
 "nbformat": 4,
 "nbformat_minor": 2
}
